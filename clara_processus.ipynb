{
 "cells": [
  {
   "cell_type": "markdown",
   "metadata": {},
   "source": [
    "CLARA Clustering multiprocessing"
   ]
  },
  {
   "cell_type": "code",
   "execution_count": 3,
   "metadata": {},
   "outputs": [
    {
     "name": "stderr",
     "output_type": "stream",
     "text": [
      "2025-01-13 18:44:36,148\tINFO worker.py:1821 -- Started a local Ray instance.\n"
     ]
    },
    {
     "name": "stdout",
     "output_type": "stream",
     "text": [
      ":task_name:apply_clara\n"
     ]
    },
    {
     "name": "stderr",
     "output_type": "stream",
     "text": [
      ":task_name:apply_clara\n"
     ]
    },
    {
     "name": "stdout",
     "output_type": "stream",
     "text": [
      ":task_name:apply_clara\n"
     ]
    },
    {
     "name": "stderr",
     "output_type": "stream",
     "text": [
      ":task_name:apply_clara\n"
     ]
    },
    {
     "name": "stdout",
     "output_type": "stream",
     "text": [
      ":task_name:apply_clara\n"
     ]
    },
    {
     "name": "stderr",
     "output_type": "stream",
     "text": [
      ":task_name:apply_clara\n"
     ]
    },
    {
     "name": "stdout",
     "output_type": "stream",
     "text": [
      ":task_name:apply_clara\n"
     ]
    },
    {
     "name": "stderr",
     "output_type": "stream",
     "text": [
      ":task_name:apply_clara\n"
     ]
    },
    {
     "name": "stdout",
     "output_type": "stream",
     "text": [
      "Silhouette Coefficient : 0.1233\n",
      "Davies-Bouldin Index : 1.7780\n",
      "Calinski-Harabasz Index : 1096.5523\n"
     ]
    }
   ],
   "source": [
    "import numpy as np\n",
    "import pandas as pd\n",
    "import matplotlib.pyplot as plt\n",
    "from sklearn_extra.cluster import CLARA\n",
    "from sklearn.decomposition import PCA\n",
    "from sklearn.metrics import adjusted_rand_score,normalized_mutual_info_score,silhouette_score,davies_bouldin_score,calinski_harabasz_score\n",
    "import ray\n",
    "import dill\n",
    "import time\n",
    "\n",
    "#Initiation du framework Ray pour gerer les taches paralleles\n",
    "ray.init(ignore_reinit_error=True,  local_mode=True,object_store_memory=3 * 1024 ** 3)\n",
    "\n",
    "#Chargement et preparation du dataset\n",
    "def load_and_prepare_data(file_path):\n",
    "    data = pd.read_csv(file_path) #Chargement du fichier CSV\n",
    "    data.drop(columns=['CUST_ID'], inplace=True)  #Suppression de la colonnes d'identifiant inutile\n",
    "    data.fillna(data.median(), inplace=True)  #Remplacement des valeurs manquantes par la mediane\n",
    "    numeric_data = data.select_dtypes(include=[np.number])  #Selection des colonnes numeriques uniquement\n",
    "    return (numeric_data - numeric_data.mean()) / numeric_data.std() #Normalisation du data\n",
    "\n",
    "#Appliquation de l'algorithme CLARA Clustering\n",
    "@ray.remote #transforme la fonction apply_clara en une tache qui peut etre excecutee en parallle\n",
    "def apply_clara(data_array, k, sampling_size, random_state):\n",
    "    data = pd.DataFrame(data_array)  \n",
    "    clara = CLARA(n_clusters=k, n_sampling=sampling_size, random_state=random_state)\n",
    "    labels = clara.fit_predict(data)#Effectuer le Clustering \n",
    "    return clara, labels\n",
    "\n",
    "# Sauvegarde du modèle\n",
    "def save_model(model, filename=\"model_clara.pkl\"):\n",
    "    with open(filename, 'wb') as file:\n",
    "        dill.dump(model, file)\n",
    "    \n",
    "def clara_model(file, n_clusters):\n",
    "    #Chargement des donnees\n",
    "    data = load_and_prepare_data(file)\n",
    "    data_array = data.to_numpy()\n",
    "\n",
    "    random_states = [42, 43, 44, 45]\n",
    "\n",
    "    #Chronometrer l'exécution\n",
    "    start_time = time.time()\n",
    "\n",
    "    sampling_size = max(int(0.05 * len(data)), n_clusters + 1)  #Taille des sous-echantillons(samples)\n",
    "\n",
    "    #Creation des taches paralleles pour Ray, chaque tache s'excecute avec un state different\n",
    "    \n",
    "    tasks = [apply_clara.remote(data_array, n_clusters, sampling_size, state) for state in random_states]\n",
    "\n",
    "    #Execution des taches en parallele avec Ray\n",
    "    results = ray.get(tasks)\n",
    "\n",
    "    end_time = time.time()\n",
    "\n",
    "    temps_execution = end_time - start_time\n",
    "\n",
    "    #Selection du premier resultat retourner par les taches parallele\n",
    "    best_clara, labels = results[0]\n",
    "    \n",
    "    #Enregistrer Model CLARA Clustering\n",
    "    save_model(best_clara, 'model_clara.pkl')\n",
    "\n",
    "    #Evaluation des clusters\n",
    "    metrics = evaluate_clustering(data, labels)\n",
    "\n",
    "    ray.shutdown()\n",
    "\n",
    "    return best_clara, labels, metrics, temps_execution\n",
    "\n",
    "#Metriques d'evaluation\n",
    "def evaluate_clustering(data, labels):\n",
    "    #Usupervised\n",
    "    silhouette = silhouette_score(data, labels)\n",
    "    db_index = davies_bouldin_score(data, labels)\n",
    "    ch_score = calinski_harabasz_score(data, labels)\n",
    "\n",
    "    print(f\"Silhouette Coefficient : {silhouette:.4f}\")\n",
    "    print(f\"Davies-Bouldin Index : {db_index:.4f}\")\n",
    "    print(f\"Calinski-Harabasz Index : {ch_score:.4f}\")\n",
    "    \n",
    "    #Supervised (on n'a pas des labels deja classifier/Clustered)\n",
    "    true_labels = None  \n",
    "    if true_labels is not None:\n",
    "        ari = adjusted_rand_score(true_labels, labels)\n",
    "        nmi = normalized_mutual_info_score(true_labels, labels)\n",
    "        print(f\"Adjusted Rand Index (ARI) : {ari:.4f}\")\n",
    "        print(f\"Normalized Mutual Information (NMI) : {nmi:.4f}\")\n",
    "\n",
    "model, labels, metrics, temps_execution = clara_model(\"credit_cards.csv\", n_clusters=6)\n",
    "\n"
   ]
  },
  {
   "cell_type": "code",
   "execution_count": 4,
   "metadata": {},
   "outputs": [
    {
     "name": "stdout",
     "output_type": "stream",
     "text": [
      "📦 Modèle CLARA chargé avec succès !\n"
     ]
    },
    {
     "data": {
      "text/html": [
       "<style>#sk-container-id-1 {color: black;background-color: white;}#sk-container-id-1 pre{padding: 0;}#sk-container-id-1 div.sk-toggleable {background-color: white;}#sk-container-id-1 label.sk-toggleable__label {cursor: pointer;display: block;width: 100%;margin-bottom: 0;padding: 0.3em;box-sizing: border-box;text-align: center;}#sk-container-id-1 label.sk-toggleable__label-arrow:before {content: \"▸\";float: left;margin-right: 0.25em;color: #696969;}#sk-container-id-1 label.sk-toggleable__label-arrow:hover:before {color: black;}#sk-container-id-1 div.sk-estimator:hover label.sk-toggleable__label-arrow:before {color: black;}#sk-container-id-1 div.sk-toggleable__content {max-height: 0;max-width: 0;overflow: hidden;text-align: left;background-color: #f0f8ff;}#sk-container-id-1 div.sk-toggleable__content pre {margin: 0.2em;color: black;border-radius: 0.25em;background-color: #f0f8ff;}#sk-container-id-1 input.sk-toggleable__control:checked~div.sk-toggleable__content {max-height: 200px;max-width: 100%;overflow: auto;}#sk-container-id-1 input.sk-toggleable__control:checked~label.sk-toggleable__label-arrow:before {content: \"▾\";}#sk-container-id-1 div.sk-estimator input.sk-toggleable__control:checked~label.sk-toggleable__label {background-color: #d4ebff;}#sk-container-id-1 div.sk-label input.sk-toggleable__control:checked~label.sk-toggleable__label {background-color: #d4ebff;}#sk-container-id-1 input.sk-hidden--visually {border: 0;clip: rect(1px 1px 1px 1px);clip: rect(1px, 1px, 1px, 1px);height: 1px;margin: -1px;overflow: hidden;padding: 0;position: absolute;width: 1px;}#sk-container-id-1 div.sk-estimator {font-family: monospace;background-color: #f0f8ff;border: 1px dotted black;border-radius: 0.25em;box-sizing: border-box;margin-bottom: 0.5em;}#sk-container-id-1 div.sk-estimator:hover {background-color: #d4ebff;}#sk-container-id-1 div.sk-parallel-item::after {content: \"\";width: 100%;border-bottom: 1px solid gray;flex-grow: 1;}#sk-container-id-1 div.sk-label:hover label.sk-toggleable__label {background-color: #d4ebff;}#sk-container-id-1 div.sk-serial::before {content: \"\";position: absolute;border-left: 1px solid gray;box-sizing: border-box;top: 0;bottom: 0;left: 50%;z-index: 0;}#sk-container-id-1 div.sk-serial {display: flex;flex-direction: column;align-items: center;background-color: white;padding-right: 0.2em;padding-left: 0.2em;position: relative;}#sk-container-id-1 div.sk-item {position: relative;z-index: 1;}#sk-container-id-1 div.sk-parallel {display: flex;align-items: stretch;justify-content: center;background-color: white;position: relative;}#sk-container-id-1 div.sk-item::before, #sk-container-id-1 div.sk-parallel-item::before {content: \"\";position: absolute;border-left: 1px solid gray;box-sizing: border-box;top: 0;bottom: 0;left: 50%;z-index: -1;}#sk-container-id-1 div.sk-parallel-item {display: flex;flex-direction: column;z-index: 1;position: relative;background-color: white;}#sk-container-id-1 div.sk-parallel-item:first-child::after {align-self: flex-end;width: 50%;}#sk-container-id-1 div.sk-parallel-item:last-child::after {align-self: flex-start;width: 50%;}#sk-container-id-1 div.sk-parallel-item:only-child::after {width: 0;}#sk-container-id-1 div.sk-dashed-wrapped {border: 1px dashed gray;margin: 0 0.4em 0.5em 0.4em;box-sizing: border-box;padding-bottom: 0.4em;background-color: white;}#sk-container-id-1 div.sk-label label {font-family: monospace;font-weight: bold;display: inline-block;line-height: 1.2em;}#sk-container-id-1 div.sk-label-container {text-align: center;}#sk-container-id-1 div.sk-container {/* jupyter's `normalize.less` sets `[hidden] { display: none; }` but bootstrap.min.css set `[hidden] { display: none !important; }` so we also need the `!important` here to be able to override the default hidden behavior on the sphinx rendered scikit-learn.org. See: https://github.com/scikit-learn/scikit-learn/issues/21755 */display: inline-block !important;position: relative;}#sk-container-id-1 div.sk-text-repr-fallback {display: none;}</style><div id=\"sk-container-id-1\" class=\"sk-top-container\"><div class=\"sk-text-repr-fallback\"><pre>CLARA(n_clusters=6, n_sampling=447, random_state=42)</pre><b>In a Jupyter environment, please rerun this cell to show the HTML representation or trust the notebook. <br />On GitHub, the HTML representation is unable to render, please try loading this page with nbviewer.org.</b></div><div class=\"sk-container\" hidden><div class=\"sk-item\"><div class=\"sk-estimator sk-toggleable\"><input class=\"sk-toggleable__control sk-hidden--visually\" id=\"sk-estimator-id-1\" type=\"checkbox\" checked><label for=\"sk-estimator-id-1\" class=\"sk-toggleable__label sk-toggleable__label-arrow\">CLARA</label><div class=\"sk-toggleable__content\"><pre>CLARA(n_clusters=6, n_sampling=447, random_state=42)</pre></div></div></div></div></div>"
      ],
      "text/plain": [
       "CLARA(n_clusters=6, n_sampling=447, random_state=42)"
      ]
     },
     "execution_count": 4,
     "metadata": {},
     "output_type": "execute_result"
    }
   ],
   "source": [
    "# Chargement du modèle sauvegardé\n",
    "def load_model(filename):\n",
    "    with open(filename, 'rb') as file:\n",
    "        model = dill.load(file)\n",
    "    print(\"📦 Modèle CLARA chargé avec succès !\")\n",
    "    return model\n",
    "clara_loaded = load_model('model_clara.pkl')\n",
    "clara_loaded"
   ]
  }
 ],
 "metadata": {
  "kernelspec": {
   "display_name": "base",
   "language": "python",
   "name": "python3"
  },
  "language_info": {
   "codemirror_mode": {
    "name": "ipython",
    "version": 3
   },
   "file_extension": ".py",
   "mimetype": "text/x-python",
   "name": "python",
   "nbconvert_exporter": "python",
   "pygments_lexer": "ipython3",
   "version": "3.11.7"
  }
 },
 "nbformat": 4,
 "nbformat_minor": 2
}
