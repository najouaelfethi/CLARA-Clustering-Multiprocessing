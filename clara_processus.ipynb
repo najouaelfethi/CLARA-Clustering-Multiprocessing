{
 "cells": [
  {
   "cell_type": "markdown",
   "metadata": {},
   "source": [
    "CLARA Clustering multiprocessing"
   ]
  },
  {
   "cell_type": "code",
   "execution_count": 4,
   "metadata": {},
   "outputs": [
    {
     "name": "stdout",
     "output_type": "stream",
     "text": [
      "Requirement already satisfied: ipywidgets in c:\\users\\info\\anaconda3\\lib\\site-packages (7.6.5)\n",
      "Collecting ipywidgets\n",
      "  Downloading ipywidgets-8.1.5-py3-none-any.whl.metadata (2.3 kB)\n",
      "Collecting comm>=0.1.3 (from ipywidgets)\n",
      "  Using cached comm-0.2.2-py3-none-any.whl.metadata (3.7 kB)\n",
      "Requirement already satisfied: ipython>=6.1.0 in c:\\users\\info\\anaconda3\\lib\\site-packages (from ipywidgets) (8.20.0)\n",
      "Requirement already satisfied: traitlets>=4.3.1 in c:\\users\\info\\anaconda3\\lib\\site-packages (from ipywidgets) (5.7.1)\n",
      "Collecting widgetsnbextension~=4.0.12 (from ipywidgets)\n",
      "  Downloading widgetsnbextension-4.0.13-py3-none-any.whl.metadata (1.6 kB)\n",
      "Collecting jupyterlab-widgets~=3.0.12 (from ipywidgets)\n",
      "  Downloading jupyterlab_widgets-3.0.13-py3-none-any.whl.metadata (4.1 kB)\n",
      "Requirement already satisfied: decorator in c:\\users\\info\\anaconda3\\lib\\site-packages (from ipython>=6.1.0->ipywidgets) (5.1.1)\n",
      "Requirement already satisfied: jedi>=0.16 in c:\\users\\info\\anaconda3\\lib\\site-packages (from ipython>=6.1.0->ipywidgets) (0.18.1)\n",
      "Requirement already satisfied: matplotlib-inline in c:\\users\\info\\anaconda3\\lib\\site-packages (from ipython>=6.1.0->ipywidgets) (0.1.6)\n",
      "Requirement already satisfied: prompt-toolkit<3.1.0,>=3.0.41 in c:\\users\\info\\anaconda3\\lib\\site-packages (from ipython>=6.1.0->ipywidgets) (3.0.43)\n",
      "Requirement already satisfied: pygments>=2.4.0 in c:\\users\\info\\anaconda3\\lib\\site-packages (from ipython>=6.1.0->ipywidgets) (2.15.1)\n",
      "Requirement already satisfied: stack-data in c:\\users\\info\\anaconda3\\lib\\site-packages (from ipython>=6.1.0->ipywidgets) (0.2.0)\n",
      "Requirement already satisfied: colorama in c:\\users\\info\\anaconda3\\lib\\site-packages (from ipython>=6.1.0->ipywidgets) (0.4.6)\n",
      "Requirement already satisfied: parso<0.9.0,>=0.8.0 in c:\\users\\info\\anaconda3\\lib\\site-packages (from jedi>=0.16->ipython>=6.1.0->ipywidgets) (0.8.3)\n",
      "Requirement already satisfied: wcwidth in c:\\users\\info\\anaconda3\\lib\\site-packages (from prompt-toolkit<3.1.0,>=3.0.41->ipython>=6.1.0->ipywidgets) (0.2.5)\n",
      "Requirement already satisfied: executing in c:\\users\\info\\anaconda3\\lib\\site-packages (from stack-data->ipython>=6.1.0->ipywidgets) (0.8.3)\n",
      "Requirement already satisfied: asttokens in c:\\users\\info\\anaconda3\\lib\\site-packages (from stack-data->ipython>=6.1.0->ipywidgets) (2.0.5)\n",
      "Requirement already satisfied: pure-eval in c:\\users\\info\\anaconda3\\lib\\site-packages (from stack-data->ipython>=6.1.0->ipywidgets) (0.2.2)\n",
      "Requirement already satisfied: six in c:\\users\\info\\anaconda3\\lib\\site-packages (from asttokens->stack-data->ipython>=6.1.0->ipywidgets) (1.16.0)\n",
      "Downloading ipywidgets-8.1.5-py3-none-any.whl (139 kB)\n",
      "   ---------------------------------------- 0.0/139.8 kB ? eta -:--:--\n",
      "   ---------------------------------------- 0.0/139.8 kB ? eta -:--:--\n",
      "   ----- ---------------------------------- 20.5/139.8 kB ? eta -:--:--\n",
      "   ----------- --------------------------- 41.0/139.8 kB 495.5 kB/s eta 0:00:01\n",
      "   ----------------- --------------------- 61.4/139.8 kB 469.7 kB/s eta 0:00:01\n",
      "   ------------------------- ------------- 92.2/139.8 kB 581.0 kB/s eta 0:00:01\n",
      "   -------------------------------------- 139.8/139.8 kB 753.1 kB/s eta 0:00:00\n",
      "Using cached comm-0.2.2-py3-none-any.whl (7.2 kB)\n",
      "Downloading jupyterlab_widgets-3.0.13-py3-none-any.whl (214 kB)\n",
      "   ---------------------------------------- 0.0/214.4 kB ? eta -:--:--\n",
      "   ---------------------------- ----------- 153.6/214.4 kB 9.0 MB/s eta 0:00:01\n",
      "   -------------------------------------- - 204.8/214.4 kB 2.5 MB/s eta 0:00:01\n",
      "   ---------------------------------------- 214.4/214.4 kB 2.6 MB/s eta 0:00:00\n",
      "Downloading widgetsnbextension-4.0.13-py3-none-any.whl (2.3 MB)\n",
      "   ---------------------------------------- 0.0/2.3 MB ? eta -:--:--\n",
      "    --------------------------------------- 0.0/2.3 MB 1.3 MB/s eta 0:00:02\n",
      "   ---- ----------------------------------- 0.2/2.3 MB 2.9 MB/s eta 0:00:01\n",
      "   ---- ----------------------------------- 0.3/2.3 MB 2.2 MB/s eta 0:00:01\n",
      "   ----- ---------------------------------- 0.3/2.3 MB 1.8 MB/s eta 0:00:02\n",
      "   ----- ---------------------------------- 0.3/2.3 MB 1.8 MB/s eta 0:00:02\n",
      "   ---------- ----------------------------- 0.6/2.3 MB 2.2 MB/s eta 0:00:01\n",
      "   ----------- ---------------------------- 0.7/2.3 MB 2.0 MB/s eta 0:00:01\n",
      "   ------------- -------------------------- 0.8/2.3 MB 2.1 MB/s eta 0:00:01\n",
      "   --------------- ------------------------ 0.9/2.3 MB 2.1 MB/s eta 0:00:01\n",
      "   ----------------- ---------------------- 1.0/2.3 MB 2.2 MB/s eta 0:00:01\n",
      "   -------------------- ------------------- 1.2/2.3 MB 2.3 MB/s eta 0:00:01\n",
      "   ----------------------- ---------------- 1.4/2.3 MB 2.4 MB/s eta 0:00:01\n",
      "   ------------------------- -------------- 1.5/2.3 MB 2.5 MB/s eta 0:00:01\n",
      "   -------------------------- ------------- 1.5/2.3 MB 2.4 MB/s eta 0:00:01\n",
      "   ------------------------------ --------- 1.8/2.3 MB 2.6 MB/s eta 0:00:01\n",
      "   -------------------------------- ------- 1.9/2.3 MB 2.6 MB/s eta 0:00:01\n",
      "   ---------------------------------- ----- 2.0/2.3 MB 2.5 MB/s eta 0:00:01\n",
      "   ------------------------------------ --- 2.2/2.3 MB 2.6 MB/s eta 0:00:01\n",
      "   ---------------------------------------  2.3/2.3 MB 2.6 MB/s eta 0:00:01\n",
      "   ---------------------------------------- 2.3/2.3 MB 2.6 MB/s eta 0:00:00\n",
      "Installing collected packages: widgetsnbextension, jupyterlab-widgets, comm, ipywidgets\n",
      "  Attempting uninstall: widgetsnbextension\n",
      "    Found existing installation: widgetsnbextension 3.5.2\n",
      "    Uninstalling widgetsnbextension-3.5.2:\n",
      "      Successfully uninstalled widgetsnbextension-3.5.2\n",
      "  Attempting uninstall: jupyterlab-widgets\n",
      "    Found existing installation: jupyterlab-widgets 3.0.9\n",
      "    Uninstalling jupyterlab-widgets-3.0.9:\n",
      "      Successfully uninstalled jupyterlab-widgets-3.0.9\n",
      "  Attempting uninstall: comm\n",
      "    Found existing installation: comm 0.1.2\n",
      "    Uninstalling comm-0.1.2:\n",
      "      Successfully uninstalled comm-0.1.2\n",
      "  Attempting uninstall: ipywidgets\n",
      "    Found existing installation: ipywidgets 7.6.5\n",
      "    Uninstalling ipywidgets-7.6.5:\n",
      "      Successfully uninstalled ipywidgets-7.6.5\n",
      "Successfully installed comm-0.2.2 ipywidgets-8.1.5 jupyterlab-widgets-3.0.13 widgetsnbextension-4.0.13\n"
     ]
    }
   ],
   "source": [
    "!pip install -U ipywidgets"
   ]
  },
  {
   "cell_type": "code",
   "execution_count": 12,
   "metadata": {},
   "outputs": [
    {
     "name": "stderr",
     "output_type": "stream",
     "text": [
      "2025-01-17 20:30:59,561\tINFO worker.py:1821 -- Started a local Ray instance.\n"
     ]
    },
    {
     "name": "stdout",
     "output_type": "stream",
     "text": [
      "Silhouette Coefficient : 0.1757\n",
      "Davies-Bouldin Index : 1.7529\n",
      "Calinski-Harabasz Index : 1218.9400\n"
     ]
    }
   ],
   "source": [
    "import numpy as np\n",
    "import pandas as pd\n",
    "import matplotlib.pyplot as plt\n",
    "from sklearn_extra.cluster import CLARA\n",
    "from sklearn.decomposition import PCA\n",
    "from sklearn.metrics import adjusted_rand_score,normalized_mutual_info_score,silhouette_score,davies_bouldin_score,calinski_harabasz_score\n",
    "import ray\n",
    "import dill\n",
    "import time\n",
    "\n",
    "#Initiation du framework Ray pour gerer les taches paralleles\n",
    "ray.init(ignore_reinit_error=True,  local_mode=False,object_store_memory=512 * 1024 ** 2)#512 Mo pour stocker les objets intermediaires dans des tâches parallelisees\n",
    "\n",
    "#Chargement et preparation du dataset\n",
    "def load_and_prepare_data(file_path):\n",
    "    data = pd.read_csv(file_path) #Chargement du fichier CSV\n",
    "    data.drop(columns=['CUST_ID'], inplace=True)  #Suppression de la colonnes d'identifiant inutile\n",
    "    data.fillna(data.median(), inplace=True)  #Remplacement des valeurs manquantes par la mediane\n",
    "    numeric_data = data.select_dtypes(include=[np.number])  #Selection des colonnes numeriques uniquement\n",
    "    return (numeric_data - numeric_data.mean()) / numeric_data.std() #Normalisation du data\n",
    "\n",
    "#Appliquation de l'algorithme CLARA Clustering\n",
    "@ray.remote #transforme la fonction apply_clara en une tache qui peut etre excecutee en parallle\n",
    "def apply_clara(data_array, k, sampling_size, random_state):\n",
    "    data = pd.DataFrame(data_array)  \n",
    "    clara = CLARA(n_clusters=k, n_sampling=sampling_size, random_state=random_state)\n",
    "    labels = clara.fit_predict(data)#Effectuer le Clustering \n",
    "    return clara, labels\n",
    "\n",
    "# Sauvegarde du modèle\n",
    "def save_model(model, filename=\"model_clara.pkl\"):\n",
    "    with open(filename, 'wb') as file:\n",
    "        dill.dump(model, file)\n",
    "    \n",
    "def clara_model(file, n_clusters):\n",
    "    #Chargement des donnees\n",
    "    data = load_and_prepare_data(file)\n",
    "    data_array = data.to_numpy()\n",
    "\n",
    "    random_states = [42, 43, 44, 45]\n",
    "\n",
    "    #Chronometrer l'exécution\n",
    "    start_time = time.time()\n",
    "\n",
    "    sampling_size = max(int(0.05 * len(data)), n_clusters + 1)  #Taille des sous-echantillons(samples)\n",
    "\n",
    "    #Creation des taches paralleles pour Ray, chaque tache s'excecute avec un state different\n",
    "    \n",
    "    tasks = [apply_clara.remote(data_array, n_clusters, sampling_size, state) for state in random_states]\n",
    "\n",
    "    #Execution des taches en parallele avec Ray\n",
    "    results = ray.get(tasks)\n",
    "\n",
    "    end_time = time.time()\n",
    "\n",
    "    temps_execution = end_time - start_time\n",
    "\n",
    "    # Comparaison des résultats pour choisir le meilleur modèle\n",
    "    best_score = -1\n",
    "    best_clara, best_labels = None, None\n",
    "\n",
    "    for clara_model_result, labels in results:\n",
    "        score = silhouette_score(data, labels)\n",
    "        if score > best_score:\n",
    "            best_score = score\n",
    "            best_clara, best_labels = clara_model_result, labels\n",
    "\n",
    "    #Enregistrer Model CLARA Clustering\n",
    "    save_model(best_clara, 'model_clara.pkl')\n",
    "\n",
    "    #Evaluation des clusters\n",
    "    metrics = evaluate_clustering(data, labels)\n",
    "\n",
    "    ray.shutdown()\n",
    "\n",
    "    return best_clara, labels, metrics, temps_execution\n",
    "\n",
    "#Metriques d'evaluation\n",
    "def evaluate_clustering(data, labels):\n",
    "    #Usupervised\n",
    "    silhouette = silhouette_score(data, labels)\n",
    "    db_index = davies_bouldin_score(data, labels)\n",
    "    ch_score = calinski_harabasz_score(data, labels)\n",
    "\n",
    "    print(f\"Silhouette Coefficient : {silhouette:.4f}\")\n",
    "    print(f\"Davies-Bouldin Index : {db_index:.4f}\")\n",
    "    print(f\"Calinski-Harabasz Index : {ch_score:.4f}\")\n",
    "    \n",
    "    #Supervised (on n'a pas des labels deja classifier/Clustered)\n",
    "    true_labels = None  \n",
    "    if true_labels is not None:\n",
    "        ari = adjusted_rand_score(true_labels, labels)\n",
    "        nmi = normalized_mutual_info_score(true_labels, labels)\n",
    "        print(f\"Adjusted Rand Index (ARI) : {ari:.4f}\")\n",
    "        print(f\"Normalized Mutual Information (NMI) : {nmi:.4f}\")\n",
    "\n",
    "model, labels, metrics, temps_execution = clara_model(\"credit_cards.csv\", n_clusters=6)\n",
    "\n"
   ]
  },
  {
   "cell_type": "code",
   "execution_count": 14,
   "metadata": {},
   "outputs": [
    {
     "name": "stdout",
     "output_type": "stream",
     "text": [
      "📦 Modèle CLARA chargé avec succès !\n"
     ]
    },
    {
     "data": {
      "text/html": [
       "<style>#sk-container-id-4 {color: black;background-color: white;}#sk-container-id-4 pre{padding: 0;}#sk-container-id-4 div.sk-toggleable {background-color: white;}#sk-container-id-4 label.sk-toggleable__label {cursor: pointer;display: block;width: 100%;margin-bottom: 0;padding: 0.3em;box-sizing: border-box;text-align: center;}#sk-container-id-4 label.sk-toggleable__label-arrow:before {content: \"▸\";float: left;margin-right: 0.25em;color: #696969;}#sk-container-id-4 label.sk-toggleable__label-arrow:hover:before {color: black;}#sk-container-id-4 div.sk-estimator:hover label.sk-toggleable__label-arrow:before {color: black;}#sk-container-id-4 div.sk-toggleable__content {max-height: 0;max-width: 0;overflow: hidden;text-align: left;background-color: #f0f8ff;}#sk-container-id-4 div.sk-toggleable__content pre {margin: 0.2em;color: black;border-radius: 0.25em;background-color: #f0f8ff;}#sk-container-id-4 input.sk-toggleable__control:checked~div.sk-toggleable__content {max-height: 200px;max-width: 100%;overflow: auto;}#sk-container-id-4 input.sk-toggleable__control:checked~label.sk-toggleable__label-arrow:before {content: \"▾\";}#sk-container-id-4 div.sk-estimator input.sk-toggleable__control:checked~label.sk-toggleable__label {background-color: #d4ebff;}#sk-container-id-4 div.sk-label input.sk-toggleable__control:checked~label.sk-toggleable__label {background-color: #d4ebff;}#sk-container-id-4 input.sk-hidden--visually {border: 0;clip: rect(1px 1px 1px 1px);clip: rect(1px, 1px, 1px, 1px);height: 1px;margin: -1px;overflow: hidden;padding: 0;position: absolute;width: 1px;}#sk-container-id-4 div.sk-estimator {font-family: monospace;background-color: #f0f8ff;border: 1px dotted black;border-radius: 0.25em;box-sizing: border-box;margin-bottom: 0.5em;}#sk-container-id-4 div.sk-estimator:hover {background-color: #d4ebff;}#sk-container-id-4 div.sk-parallel-item::after {content: \"\";width: 100%;border-bottom: 1px solid gray;flex-grow: 1;}#sk-container-id-4 div.sk-label:hover label.sk-toggleable__label {background-color: #d4ebff;}#sk-container-id-4 div.sk-serial::before {content: \"\";position: absolute;border-left: 1px solid gray;box-sizing: border-box;top: 0;bottom: 0;left: 50%;z-index: 0;}#sk-container-id-4 div.sk-serial {display: flex;flex-direction: column;align-items: center;background-color: white;padding-right: 0.2em;padding-left: 0.2em;position: relative;}#sk-container-id-4 div.sk-item {position: relative;z-index: 1;}#sk-container-id-4 div.sk-parallel {display: flex;align-items: stretch;justify-content: center;background-color: white;position: relative;}#sk-container-id-4 div.sk-item::before, #sk-container-id-4 div.sk-parallel-item::before {content: \"\";position: absolute;border-left: 1px solid gray;box-sizing: border-box;top: 0;bottom: 0;left: 50%;z-index: -1;}#sk-container-id-4 div.sk-parallel-item {display: flex;flex-direction: column;z-index: 1;position: relative;background-color: white;}#sk-container-id-4 div.sk-parallel-item:first-child::after {align-self: flex-end;width: 50%;}#sk-container-id-4 div.sk-parallel-item:last-child::after {align-self: flex-start;width: 50%;}#sk-container-id-4 div.sk-parallel-item:only-child::after {width: 0;}#sk-container-id-4 div.sk-dashed-wrapped {border: 1px dashed gray;margin: 0 0.4em 0.5em 0.4em;box-sizing: border-box;padding-bottom: 0.4em;background-color: white;}#sk-container-id-4 div.sk-label label {font-family: monospace;font-weight: bold;display: inline-block;line-height: 1.2em;}#sk-container-id-4 div.sk-label-container {text-align: center;}#sk-container-id-4 div.sk-container {/* jupyter's `normalize.less` sets `[hidden] { display: none; }` but bootstrap.min.css set `[hidden] { display: none !important; }` so we also need the `!important` here to be able to override the default hidden behavior on the sphinx rendered scikit-learn.org. See: https://github.com/scikit-learn/scikit-learn/issues/21755 */display: inline-block !important;position: relative;}#sk-container-id-4 div.sk-text-repr-fallback {display: none;}</style><div id=\"sk-container-id-4\" class=\"sk-top-container\"><div class=\"sk-text-repr-fallback\"><pre>CLARA(n_clusters=6, n_sampling=447, random_state=44)</pre><b>In a Jupyter environment, please rerun this cell to show the HTML representation or trust the notebook. <br />On GitHub, the HTML representation is unable to render, please try loading this page with nbviewer.org.</b></div><div class=\"sk-container\" hidden><div class=\"sk-item\"><div class=\"sk-estimator sk-toggleable\"><input class=\"sk-toggleable__control sk-hidden--visually\" id=\"sk-estimator-id-4\" type=\"checkbox\" checked><label for=\"sk-estimator-id-4\" class=\"sk-toggleable__label sk-toggleable__label-arrow\">CLARA</label><div class=\"sk-toggleable__content\"><pre>CLARA(n_clusters=6, n_sampling=447, random_state=44)</pre></div></div></div></div></div>"
      ],
      "text/plain": [
       "CLARA(n_clusters=6, n_sampling=447, random_state=44)"
      ]
     },
     "execution_count": 14,
     "metadata": {},
     "output_type": "execute_result"
    }
   ],
   "source": [
    "# Chargement du modèle sauvegardé\n",
    "def load_model(filename):\n",
    "    with open(filename, 'rb') as file:\n",
    "        model = dill.load(file)\n",
    "    print(\"📦 Modèle CLARA chargé avec succès !\")\n",
    "    return model\n",
    "clara_loaded = load_model('model_clara.pkl')\n",
    "clara_loaded"
   ]
  }
 ],
 "metadata": {
  "kernelspec": {
   "display_name": "base",
   "language": "python",
   "name": "python3"
  },
  "language_info": {
   "codemirror_mode": {
    "name": "ipython",
    "version": 3
   },
   "file_extension": ".py",
   "mimetype": "text/x-python",
   "name": "python",
   "nbconvert_exporter": "python",
   "pygments_lexer": "ipython3",
   "version": "3.11.7"
  }
 },
 "nbformat": 4,
 "nbformat_minor": 2
}
